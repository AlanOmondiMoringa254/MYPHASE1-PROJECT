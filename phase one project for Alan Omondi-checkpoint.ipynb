{
 "cells": [
  {
   "cell_type": "markdown",
   "metadata": {},
   "source": [
    "# **Project Overview.**\n",
    "\n",
    "For this project, I will use exploratory data analysis to generate insights for a business stakeholder.\n",
    "\n",
    "## **Business Problem.**\n",
    "\n",
    "Microsoft sees all the big companies creating original video content and they want to get in on the fun. They have decided to create a new movie studio, but they don’t know anything about creating movies. You are charged with exploring what types of films are currently doing the best at the box office. You must then translate those findings into actionable insights that the head of Microsoft's new movie studio can use to help decide what type of films to create."
   ]
  },
  {
   "cell_type": "markdown",
   "metadata": {},
   "source": [
    "# **Research Objectives.**\n",
    "1.Identify the types of films that are currently doing the best at the box office.\n",
    "\n",
    "2.Analyze the characteristics of these successful films, including their genre, budget, release date, target audience, and critical reception."
   ]
  },
  {
   "cell_type": "markdown",
   "metadata": {},
   "source": [
    "# **Methodology.**\n",
    "\n",
    "To achieve our research objectives, we will use exploratory data analysis to analyze data on films that have been released in recent years, including their box office performance, genre, budget, release date, target audience, and critical reception. We will use statistical analysis and data visualization techniques to identify patterns and trends in the data."
   ]
  },
  {
   "cell_type": "markdown",
   "metadata": {},
   "source": [
    "# **Expected Outcomes.** \n",
    "Based on our research, we expect to identify the types of films that are currently successful at the box office, as well as the characteristics that contribute to their success. We will provide actionable insights for Microsoft's new movie studio to use in creating films that are more likely to resonate with audiences and generate revenue."
   ]
  },
  {
   "cell_type": "markdown",
   "metadata": {},
   "source": [
    "# **Recording the Experimental Design.**\n",
    "\n",
    ".upload and read our csv files\n",
    "\n",
    ".clean our dataset\n",
    "\n",
    ".perfom EDA\n",
    "\n",
    ".Conclusion\n",
    "\n",
    ".Recommendation"
   ]
  },
  {
   "cell_type": "markdown",
   "metadata": {},
   "source": [
    "# **Data Loading and Preprocessing.**\n",
    "\n",
    "To start with the analysis, we first need to import the necessary libraries and load the dataset into our Jupyter Notebook. Here's how you can do that:\n",
    "\n",
    "## **Importing Libraries.**\n",
    "\n",
    "We will be using the following libraries for this project:"
   ]
  },
  {
   "cell_type": "code",
   "execution_count": 2,
   "metadata": {},
   "outputs": [],
   "source": [
    "import pandas as pd\n",
    "import matplotlib.pyplot as plt\n",
    "%matplotlib inline\n",
    "import numpy as np"
   ]
  },
  {
   "cell_type": "markdown",
   "metadata": {},
   "source": [
    "# **Load the Datasets.**\n",
    "\n",
    "To load the dataset into a pandas dataframe, follow these steps:\n",
    "\n",
    "1. Make sure that you have downloaded the dataset in gzip format.\n",
    "\n",
    "2. Use the `read_csv` function to load the dataset into a pandas dataframe. Since the dataset is compressed in gzip format, we need to use the `compression` parameter of the `read_csv` function to specify the compression method. Here's how you can do it:"
   ]
  },
  {
   "cell_type": "code",
   "execution_count": 3,
   "metadata": {},
   "outputs": [],
   "source": [
    "bom_df = pd.read_csv('bom.movie_gross.csv.gz', compression='gzip') #load the box office mojo file into a pandas dataframe\n",
    "tn_df = pd.read_csv('tn.movie_budgets.csv.gz', compression='gzip') #load the numbers file into a pandas dataframe\n",
    "tmdb_df = pd.read_csv('tmdb.movies.csv.gz', compression='gzip') #load the movie database file into a pandas dataframe"
   ]
  },
  {
   "cell_type": "markdown",
   "metadata": {},
   "source": [
    "# **Previewing the top 5 rows of each dataset.**"
   ]
  },
  {
   "cell_type": "code",
   "execution_count": 4,
   "metadata": {},
   "outputs": [
    {
     "name": "stdout",
     "output_type": "stream",
     "text": [
      "                                         title studio  domestic_gross  \\\n",
      "0                                  Toy Story 3     BV     415000000.0   \n",
      "1                   Alice in Wonderland (2010)     BV     334200000.0   \n",
      "2  Harry Potter and the Deathly Hallows Part 1     WB     296000000.0   \n",
      "3                                    Inception     WB     292600000.0   \n",
      "4                          Shrek Forever After   P/DW     238700000.0   \n",
      "\n",
      "  foreign_gross  year  \n",
      "0     652000000  2010  \n",
      "1     691300000  2010  \n",
      "2     664300000  2010  \n",
      "3     535700000  2010  \n",
      "4     513900000  2010  \n"
     ]
    }
   ],
   "source": [
    "print(bom_df.head()) #displays the first 5 rows of the dataframe to check that the data was loaded correctly"
   ]
  },
  {
   "cell_type": "markdown",
   "metadata": {},
   "source": [
    "# **Observation.**\n",
    "The \"bom_df\" (Box Office Mojo dataset) contains information on movie titles, studios, domestic and foreign gross earnings, and the year of release."
   ]
  },
  {
   "cell_type": "code",
   "execution_count": 5,
   "metadata": {},
   "outputs": [
    {
     "name": "stdout",
     "output_type": "stream",
     "text": [
      "   id  release_date                                        movie  \\\n",
      "0   1  Dec 18, 2009                                       Avatar   \n",
      "1   2  May 20, 2011  Pirates of the Caribbean: On Stranger Tides   \n",
      "2   3   Jun 7, 2019                                 Dark Phoenix   \n",
      "3   4   May 1, 2015                      Avengers: Age of Ultron   \n",
      "4   5  Dec 15, 2017            Star Wars Ep. VIII: The Last Jedi   \n",
      "\n",
      "  production_budget domestic_gross worldwide_gross  \n",
      "0      $425,000,000   $760,507,625  $2,776,345,279  \n",
      "1      $410,600,000   $241,063,875  $1,045,663,875  \n",
      "2      $350,000,000    $42,762,350    $149,762,350  \n",
      "3      $330,600,000   $459,005,868  $1,403,013,963  \n",
      "4      $317,000,000   $620,181,382  $1,316,721,747  \n"
     ]
    }
   ],
   "source": [
    "print(tn_df.head()) #displays the first 5 rows of the dataframe to check that the data was loaded correctly"
   ]
  },
  {
   "cell_type": "markdown",
   "metadata": {},
   "source": [
    "# **Observation.**\n",
    "The \"tn_df\" (The Numbers dataset) above contains information on movie titles, release dates, production budgets, domestic and worldwide gross earnings."
   ]
  },
  {
   "cell_type": "code",
   "execution_count": 6,
   "metadata": {},
   "outputs": [
    {
     "name": "stdout",
     "output_type": "stream",
     "text": [
      "   Unnamed: 0            genre_ids     id original_language  \\\n",
      "0           0      [12, 14, 10751]  12444                en   \n",
      "1           1  [14, 12, 16, 10751]  10191                en   \n",
      "2           2        [12, 28, 878]  10138                en   \n",
      "3           3      [16, 35, 10751]    862                en   \n",
      "4           4        [28, 878, 12]  27205                en   \n",
      "\n",
      "                                 original_title  popularity release_date  \\\n",
      "0  Harry Potter and the Deathly Hallows: Part 1      33.533   2010-11-19   \n",
      "1                      How to Train Your Dragon      28.734   2010-03-26   \n",
      "2                                    Iron Man 2      28.515   2010-05-07   \n",
      "3                                     Toy Story      28.005   1995-11-22   \n",
      "4                                     Inception      27.920   2010-07-16   \n",
      "\n",
      "                                          title  vote_average  vote_count  \n",
      "0  Harry Potter and the Deathly Hallows: Part 1           7.7       10788  \n",
      "1                      How to Train Your Dragon           7.7        7610  \n",
      "2                                    Iron Man 2           6.8       12368  \n",
      "3                                     Toy Story           7.9       10174  \n",
      "4                                     Inception           8.3       22186  \n"
     ]
    }
   ],
   "source": [
    "print(tmdb_df.head()) #displays the first 5 rows of the dataframe to check that the data was loaded correctly"
   ]
  },
  {
   "cell_type": "markdown",
   "metadata": {},
   "source": [
    "# **Observation.**\n",
    "The \"tmdb_df\" (The Movie Database dataset) above contains information on movie genres, original language, popularity, release date, titles, and voting scores.\n",
    "\n",
    "We can also see that the data in each dataset is organized differently, with different column names and formats."
   ]
  },
  {
   "cell_type": "markdown",
   "metadata": {},
   "source": [
    "# **Checking the data.**"
   ]
  },
  {
   "cell_type": "code",
   "execution_count": 7,
   "metadata": {},
   "outputs": [
    {
     "name": "stdout",
     "output_type": "stream",
     "text": [
      "The box office mojo shape (3387, 5)\n",
      "The numbers shape (5782, 6)\n",
      "The movie database shape (26517, 10)\n"
     ]
    }
   ],
   "source": [
    "print(\"The box office mojo shape\",bom_df.shape)\n",
    "print(\"The numbers shape\",tn_df.shape)\n",
    "print(\"The movie database shape\",tmdb_df.shape)"
   ]
  },
  {
   "cell_type": "markdown",
   "metadata": {},
   "source": [
    "# **Observation.**\n",
    "The bom_df dataframe has 3387 rows and 5 columns.\n",
    "The tn_df dataframe has 5782 rows and 6 columns.\n",
    "The tmdb_df dataframe has 26517 rows and 10 columns.\n",
    "\n",
    "These outputs show the dimensions of each of the dataframes, which gives us an idea of the amount of data we are dealing with in each case."
   ]
  },
  {
   "cell_type": "markdown",
   "metadata": {},
   "source": [
    "# **Previewing the bottom of our datasets.**"
   ]
  },
  {
   "cell_type": "code",
   "execution_count": 8,
   "metadata": {},
   "outputs": [
    {
     "data": {
      "text/html": [
       "<div>\n",
       "<style scoped>\n",
       "    .dataframe tbody tr th:only-of-type {\n",
       "        vertical-align: middle;\n",
       "    }\n",
       "\n",
       "    .dataframe tbody tr th {\n",
       "        vertical-align: top;\n",
       "    }\n",
       "\n",
       "    .dataframe thead th {\n",
       "        text-align: right;\n",
       "    }\n",
       "</style>\n",
       "<table border=\"1\" class=\"dataframe\">\n",
       "  <thead>\n",
       "    <tr style=\"text-align: right;\">\n",
       "      <th></th>\n",
       "      <th>title</th>\n",
       "      <th>studio</th>\n",
       "      <th>domestic_gross</th>\n",
       "      <th>foreign_gross</th>\n",
       "      <th>year</th>\n",
       "    </tr>\n",
       "  </thead>\n",
       "  <tbody>\n",
       "    <tr>\n",
       "      <th>3382</th>\n",
       "      <td>The Quake</td>\n",
       "      <td>Magn.</td>\n",
       "      <td>6200.0</td>\n",
       "      <td>NaN</td>\n",
       "      <td>2018</td>\n",
       "    </tr>\n",
       "    <tr>\n",
       "      <th>3383</th>\n",
       "      <td>Edward II (2018 re-release)</td>\n",
       "      <td>FM</td>\n",
       "      <td>4800.0</td>\n",
       "      <td>NaN</td>\n",
       "      <td>2018</td>\n",
       "    </tr>\n",
       "    <tr>\n",
       "      <th>3384</th>\n",
       "      <td>El Pacto</td>\n",
       "      <td>Sony</td>\n",
       "      <td>2500.0</td>\n",
       "      <td>NaN</td>\n",
       "      <td>2018</td>\n",
       "    </tr>\n",
       "    <tr>\n",
       "      <th>3385</th>\n",
       "      <td>The Swan</td>\n",
       "      <td>Synergetic</td>\n",
       "      <td>2400.0</td>\n",
       "      <td>NaN</td>\n",
       "      <td>2018</td>\n",
       "    </tr>\n",
       "    <tr>\n",
       "      <th>3386</th>\n",
       "      <td>An Actor Prepares</td>\n",
       "      <td>Grav.</td>\n",
       "      <td>1700.0</td>\n",
       "      <td>NaN</td>\n",
       "      <td>2018</td>\n",
       "    </tr>\n",
       "  </tbody>\n",
       "</table>\n",
       "</div>"
      ],
      "text/plain": [
       "                            title      studio  domestic_gross foreign_gross  \\\n",
       "3382                    The Quake       Magn.          6200.0           NaN   \n",
       "3383  Edward II (2018 re-release)          FM          4800.0           NaN   \n",
       "3384                     El Pacto        Sony          2500.0           NaN   \n",
       "3385                     The Swan  Synergetic          2400.0           NaN   \n",
       "3386            An Actor Prepares       Grav.          1700.0           NaN   \n",
       "\n",
       "      year  \n",
       "3382  2018  \n",
       "3383  2018  \n",
       "3384  2018  \n",
       "3385  2018  \n",
       "3386  2018  "
      ]
     },
     "execution_count": 8,
     "metadata": {},
     "output_type": "execute_result"
    }
   ],
   "source": [
    "# Previewing the bottom of bom_df\n",
    "bom_df.tail()"
   ]
  },
  {
   "cell_type": "code",
   "execution_count": 9,
   "metadata": {},
   "outputs": [
    {
     "data": {
      "text/html": [
       "<div>\n",
       "<style scoped>\n",
       "    .dataframe tbody tr th:only-of-type {\n",
       "        vertical-align: middle;\n",
       "    }\n",
       "\n",
       "    .dataframe tbody tr th {\n",
       "        vertical-align: top;\n",
       "    }\n",
       "\n",
       "    .dataframe thead th {\n",
       "        text-align: right;\n",
       "    }\n",
       "</style>\n",
       "<table border=\"1\" class=\"dataframe\">\n",
       "  <thead>\n",
       "    <tr style=\"text-align: right;\">\n",
       "      <th></th>\n",
       "      <th>id</th>\n",
       "      <th>release_date</th>\n",
       "      <th>movie</th>\n",
       "      <th>production_budget</th>\n",
       "      <th>domestic_gross</th>\n",
       "      <th>worldwide_gross</th>\n",
       "    </tr>\n",
       "  </thead>\n",
       "  <tbody>\n",
       "    <tr>\n",
       "      <th>5777</th>\n",
       "      <td>78</td>\n",
       "      <td>Dec 31, 2018</td>\n",
       "      <td>Red 11</td>\n",
       "      <td>$7,000</td>\n",
       "      <td>$0</td>\n",
       "      <td>$0</td>\n",
       "    </tr>\n",
       "    <tr>\n",
       "      <th>5778</th>\n",
       "      <td>79</td>\n",
       "      <td>Apr 2, 1999</td>\n",
       "      <td>Following</td>\n",
       "      <td>$6,000</td>\n",
       "      <td>$48,482</td>\n",
       "      <td>$240,495</td>\n",
       "    </tr>\n",
       "    <tr>\n",
       "      <th>5779</th>\n",
       "      <td>80</td>\n",
       "      <td>Jul 13, 2005</td>\n",
       "      <td>Return to the Land of Wonders</td>\n",
       "      <td>$5,000</td>\n",
       "      <td>$1,338</td>\n",
       "      <td>$1,338</td>\n",
       "    </tr>\n",
       "    <tr>\n",
       "      <th>5780</th>\n",
       "      <td>81</td>\n",
       "      <td>Sep 29, 2015</td>\n",
       "      <td>A Plague So Pleasant</td>\n",
       "      <td>$1,400</td>\n",
       "      <td>$0</td>\n",
       "      <td>$0</td>\n",
       "    </tr>\n",
       "    <tr>\n",
       "      <th>5781</th>\n",
       "      <td>82</td>\n",
       "      <td>Aug 5, 2005</td>\n",
       "      <td>My Date With Drew</td>\n",
       "      <td>$1,100</td>\n",
       "      <td>$181,041</td>\n",
       "      <td>$181,041</td>\n",
       "    </tr>\n",
       "  </tbody>\n",
       "</table>\n",
       "</div>"
      ],
      "text/plain": [
       "      id  release_date                          movie production_budget  \\\n",
       "5777  78  Dec 31, 2018                         Red 11            $7,000   \n",
       "5778  79   Apr 2, 1999                      Following            $6,000   \n",
       "5779  80  Jul 13, 2005  Return to the Land of Wonders            $5,000   \n",
       "5780  81  Sep 29, 2015           A Plague So Pleasant            $1,400   \n",
       "5781  82   Aug 5, 2005              My Date With Drew            $1,100   \n",
       "\n",
       "     domestic_gross worldwide_gross  \n",
       "5777             $0              $0  \n",
       "5778        $48,482        $240,495  \n",
       "5779         $1,338          $1,338  \n",
       "5780             $0              $0  \n",
       "5781       $181,041        $181,041  "
      ]
     },
     "execution_count": 9,
     "metadata": {},
     "output_type": "execute_result"
    }
   ],
   "source": [
    "# Previewing the bottom of tn_df\n",
    "tn_df.tail()\n"
   ]
  },
  {
   "cell_type": "code",
   "execution_count": 10,
   "metadata": {},
   "outputs": [
    {
     "data": {
      "text/html": [
       "<div>\n",
       "<style scoped>\n",
       "    .dataframe tbody tr th:only-of-type {\n",
       "        vertical-align: middle;\n",
       "    }\n",
       "\n",
       "    .dataframe tbody tr th {\n",
       "        vertical-align: top;\n",
       "    }\n",
       "\n",
       "    .dataframe thead th {\n",
       "        text-align: right;\n",
       "    }\n",
       "</style>\n",
       "<table border=\"1\" class=\"dataframe\">\n",
       "  <thead>\n",
       "    <tr style=\"text-align: right;\">\n",
       "      <th></th>\n",
       "      <th>Unnamed: 0</th>\n",
       "      <th>genre_ids</th>\n",
       "      <th>id</th>\n",
       "      <th>original_language</th>\n",
       "      <th>original_title</th>\n",
       "      <th>popularity</th>\n",
       "      <th>release_date</th>\n",
       "      <th>title</th>\n",
       "      <th>vote_average</th>\n",
       "      <th>vote_count</th>\n",
       "    </tr>\n",
       "  </thead>\n",
       "  <tbody>\n",
       "    <tr>\n",
       "      <th>26512</th>\n",
       "      <td>26512</td>\n",
       "      <td>[27, 18]</td>\n",
       "      <td>488143</td>\n",
       "      <td>en</td>\n",
       "      <td>Laboratory Conditions</td>\n",
       "      <td>0.6</td>\n",
       "      <td>2018-10-13</td>\n",
       "      <td>Laboratory Conditions</td>\n",
       "      <td>0.0</td>\n",
       "      <td>1</td>\n",
       "    </tr>\n",
       "    <tr>\n",
       "      <th>26513</th>\n",
       "      <td>26513</td>\n",
       "      <td>[18, 53]</td>\n",
       "      <td>485975</td>\n",
       "      <td>en</td>\n",
       "      <td>_EXHIBIT_84xxx_</td>\n",
       "      <td>0.6</td>\n",
       "      <td>2018-05-01</td>\n",
       "      <td>_EXHIBIT_84xxx_</td>\n",
       "      <td>0.0</td>\n",
       "      <td>1</td>\n",
       "    </tr>\n",
       "    <tr>\n",
       "      <th>26514</th>\n",
       "      <td>26514</td>\n",
       "      <td>[14, 28, 12]</td>\n",
       "      <td>381231</td>\n",
       "      <td>en</td>\n",
       "      <td>The Last One</td>\n",
       "      <td>0.6</td>\n",
       "      <td>2018-10-01</td>\n",
       "      <td>The Last One</td>\n",
       "      <td>0.0</td>\n",
       "      <td>1</td>\n",
       "    </tr>\n",
       "    <tr>\n",
       "      <th>26515</th>\n",
       "      <td>26515</td>\n",
       "      <td>[10751, 12, 28]</td>\n",
       "      <td>366854</td>\n",
       "      <td>en</td>\n",
       "      <td>Trailer Made</td>\n",
       "      <td>0.6</td>\n",
       "      <td>2018-06-22</td>\n",
       "      <td>Trailer Made</td>\n",
       "      <td>0.0</td>\n",
       "      <td>1</td>\n",
       "    </tr>\n",
       "    <tr>\n",
       "      <th>26516</th>\n",
       "      <td>26516</td>\n",
       "      <td>[53, 27]</td>\n",
       "      <td>309885</td>\n",
       "      <td>en</td>\n",
       "      <td>The Church</td>\n",
       "      <td>0.6</td>\n",
       "      <td>2018-10-05</td>\n",
       "      <td>The Church</td>\n",
       "      <td>0.0</td>\n",
       "      <td>1</td>\n",
       "    </tr>\n",
       "  </tbody>\n",
       "</table>\n",
       "</div>"
      ],
      "text/plain": [
       "       Unnamed: 0        genre_ids      id original_language  \\\n",
       "26512       26512         [27, 18]  488143                en   \n",
       "26513       26513         [18, 53]  485975                en   \n",
       "26514       26514     [14, 28, 12]  381231                en   \n",
       "26515       26515  [10751, 12, 28]  366854                en   \n",
       "26516       26516         [53, 27]  309885                en   \n",
       "\n",
       "              original_title  popularity release_date                  title  \\\n",
       "26512  Laboratory Conditions         0.6   2018-10-13  Laboratory Conditions   \n",
       "26513        _EXHIBIT_84xxx_         0.6   2018-05-01        _EXHIBIT_84xxx_   \n",
       "26514           The Last One         0.6   2018-10-01           The Last One   \n",
       "26515           Trailer Made         0.6   2018-06-22           Trailer Made   \n",
       "26516             The Church         0.6   2018-10-05             The Church   \n",
       "\n",
       "       vote_average  vote_count  \n",
       "26512           0.0           1  \n",
       "26513           0.0           1  \n",
       "26514           0.0           1  \n",
       "26515           0.0           1  \n",
       "26516           0.0           1  "
      ]
     },
     "execution_count": 10,
     "metadata": {},
     "output_type": "execute_result"
    }
   ],
   "source": [
    "# Previewing the bottom of tmdb_df\n",
    "tmdb_df.tail()"
   ]
  },
  {
   "cell_type": "markdown",
   "metadata": {},
   "source": [
    "# **Observations.**\n",
    "From the output of bom_df.tail(), we can observe that the dataset contains information about movie titles, their respective studios, domestic gross, foreign gross, and year of release. We can also see that some of the rows have missing values for foreign gross.\n",
    "\n",
    "From the output of tn_df.tail(), we can observe that the dataset contains information about movie IDs, release dates, movie titles, production budgets, domestic gross, and worldwide gross.we can see that the \"worldwide_gross\" column has values of 0 for some movies, even though they have a non-zero value for both \"production_budget\" and \"domestic_gross\". This seems like a data entry error and may need to be corrected.\n",
    "\n",
    "From the output of tmdb_df.tail(), we can observe that the dataset contains information about movie titles, their original titles, genre IDs, release dates, popularity scores, vote averages, vote counts, and original language. We can also see that the dataset contains a column named Unnamed: 0 which seems to be an extra index column.\n",
    "\n",
    "We shall fix/clean the above errors and inconsistencies in the following section."
   ]
  },
  {
   "cell_type": "markdown",
   "metadata": {},
   "source": [
    "# **Checking whether each column has an appropriate datatype.**"
   ]
  },
  {
   "cell_type": "code",
   "execution_count": 11,
   "metadata": {},
   "outputs": [
    {
     "name": "stdout",
     "output_type": "stream",
     "text": [
      "<class 'pandas.core.frame.DataFrame'>\n",
      "RangeIndex: 3387 entries, 0 to 3386\n",
      "Data columns (total 5 columns):\n",
      " #   Column          Non-Null Count  Dtype  \n",
      "---  ------          --------------  -----  \n",
      " 0   title           3387 non-null   object \n",
      " 1   studio          3382 non-null   object \n",
      " 2   domestic_gross  3359 non-null   float64\n",
      " 3   foreign_gross   2037 non-null   object \n",
      " 4   year            3387 non-null   int64  \n",
      "dtypes: float64(1), int64(1), object(3)\n",
      "memory usage: 132.4+ KB\n"
     ]
    }
   ],
   "source": [
    "# Checking datatypes of columns in bom_df\n",
    "bom_df.info()"
   ]
  },
  {
   "cell_type": "code",
   "execution_count": 12,
   "metadata": {},
   "outputs": [
    {
     "name": "stdout",
     "output_type": "stream",
     "text": [
      "<class 'pandas.core.frame.DataFrame'>\n",
      "RangeIndex: 5782 entries, 0 to 5781\n",
      "Data columns (total 6 columns):\n",
      " #   Column             Non-Null Count  Dtype \n",
      "---  ------             --------------  ----- \n",
      " 0   id                 5782 non-null   int64 \n",
      " 1   release_date       5782 non-null   object\n",
      " 2   movie              5782 non-null   object\n",
      " 3   production_budget  5782 non-null   object\n",
      " 4   domestic_gross     5782 non-null   object\n",
      " 5   worldwide_gross    5782 non-null   object\n",
      "dtypes: int64(1), object(5)\n",
      "memory usage: 271.2+ KB\n"
     ]
    }
   ],
   "source": [
    "# Checking datatypes of columns in tn_df\n",
    "tn_df.info()"
   ]
  },
  {
   "cell_type": "code",
   "execution_count": 13,
   "metadata": {},
   "outputs": [
    {
     "name": "stdout",
     "output_type": "stream",
     "text": [
      "<class 'pandas.core.frame.DataFrame'>\n",
      "RangeIndex: 26517 entries, 0 to 26516\n",
      "Data columns (total 10 columns):\n",
      " #   Column             Non-Null Count  Dtype  \n",
      "---  ------             --------------  -----  \n",
      " 0   Unnamed: 0         26517 non-null  int64  \n",
      " 1   genre_ids          26517 non-null  object \n",
      " 2   id                 26517 non-null  int64  \n",
      " 3   original_language  26517 non-null  object \n",
      " 4   original_title     26517 non-null  object \n",
      " 5   popularity         26517 non-null  float64\n",
      " 6   release_date       26517 non-null  object \n",
      " 7   title              26517 non-null  object \n",
      " 8   vote_average       26517 non-null  float64\n",
      " 9   vote_count         26517 non-null  int64  \n",
      "dtypes: float64(2), int64(3), object(5)\n",
      "memory usage: 2.0+ MB\n"
     ]
    }
   ],
   "source": [
    "# Checking datatypes of columns in tmdb_df\n",
    "tmdb_df.info()"
   ]
  },
  {
   "cell_type": "markdown",
   "metadata": {},
   "source": [
    "# **Observations.**\n",
    "The info() method is displaying the correct number of non-null values and datatypes for each column in the three datasets."
   ]
  },
  {
   "cell_type": "markdown",
   "metadata": {},
   "source": [
    "# **Checking for duplicate rows.**"
   ]
  },
  {
   "cell_type": "code",
   "execution_count": 14,
   "metadata": {},
   "outputs": [
    {
     "name": "stdout",
     "output_type": "stream",
     "text": [
      "Number of duplicate rows in bom_df: 0\n",
      "------------------------------\n",
      "Number of duplicate rows in tn_df: 0\n",
      "------------------------------\n",
      "Number of duplicate rows in tmdb_df: 0\n"
     ]
    }
   ],
   "source": [
    "# Checking for duplicates in bom_df\n",
    "print(\"Number of duplicate rows in bom_df:\", bom_df.duplicated().sum())\n",
    "print(\"-\"*30)\n",
    "# Checking for duplicates in tn_df\n",
    "print(\"Number of duplicate rows in tn_df:\", tn_df.duplicated().sum())\n",
    "print(\"-\"*30)\n",
    "# Checking for duplicates in tmdb_df\n",
    "print(\"Number of duplicate rows in tmdb_df:\", tmdb_df.duplicated().sum())"
   ]
  },
  {
   "cell_type": "markdown",
   "metadata": {},
   "source": [
    "# **Observations.**\n",
    "No duplicate rows in all 3 datasets."
   ]
  },
  {
   "cell_type": "markdown",
   "metadata": {},
   "source": [
    "# **Checking for missing values.**"
   ]
  },
  {
   "cell_type": "code",
   "execution_count": 15,
   "metadata": {},
   "outputs": [
    {
     "name": "stdout",
     "output_type": "stream",
     "text": [
      "Number of missing values in bom_df:\n",
      " title                0\n",
      "studio               5\n",
      "domestic_gross      28\n",
      "foreign_gross     1350\n",
      "year                 0\n",
      "dtype: int64\n",
      "------------------------------\n",
      "Number of missing values in tn_df:\n",
      " id                   0\n",
      "release_date         0\n",
      "movie                0\n",
      "production_budget    0\n",
      "domestic_gross       0\n",
      "worldwide_gross      0\n",
      "dtype: int64\n",
      "------------------------------\n",
      "Number of missing values in tmdb_df:\n",
      " Unnamed: 0           0\n",
      "genre_ids            0\n",
      "id                   0\n",
      "original_language    0\n",
      "original_title       0\n",
      "popularity           0\n",
      "release_date         0\n",
      "title                0\n",
      "vote_average         0\n",
      "vote_count           0\n",
      "dtype: int64\n"
     ]
    }
   ],
   "source": [
    "# Checking for missing values in bom_df\n",
    "print(\"Number of missing values in bom_df:\\n\", bom_df.isnull().sum())\n",
    "print(\"-\"*30)\n",
    "# Checking for missing values in tn_df\n",
    "print(\"Number of missing values in tn_df:\\n\", tn_df.isnull().sum())\n",
    "print(\"-\"*30)\n",
    "# Checking for missing values in tmdb_df\n",
    "print(\"Number of missing values in tmdb_df:\\n\", tmdb_df.isnull().sum())"
   ]
  },
  {
   "cell_type": "markdown",
   "metadata": {},
   "source": [
    "# **Observations.**\n",
    "The bom_df dataset has missing values in the studio, domestic_gross, and foreign_gross columns.\n",
    "\n",
    "We shall fix this in the next section."
   ]
  },
  {
   "cell_type": "markdown",
   "metadata": {},
   "source": [
    "# **Checking for inconsistent values.**"
   ]
  },
  {
   "cell_type": "code",
   "execution_count": 16,
   "metadata": {},
   "outputs": [
    {
     "name": "stdout",
     "output_type": "stream",
     "text": [
      "Number of inconsistent values in bom_df:\n",
      " title            3386\n",
      "studio            257\n",
      "foreign_gross    1204\n",
      "dtype: int64\n",
      "------------------------------\n",
      "Number of inconsistent values in tn_df:\n",
      " release_date         2418\n",
      "movie                5698\n",
      "production_budget     509\n",
      "domestic_gross       5164\n",
      "worldwide_gross      5356\n",
      "dtype: int64\n",
      "------------------------------\n",
      "Number of inconsistent values in tmdb_df:\n",
      " genre_ids             2477\n",
      "original_language       76\n",
      "original_title       24835\n",
      "release_date          3433\n",
      "title                24688\n",
      "dtype: int64\n"
     ]
    }
   ],
   "source": [
    "# Checking for inconsistent values in bom_df\n",
    "print(\"Number of inconsistent values in bom_df:\\n\", bom_df.select_dtypes(include=[\"object\"]).apply(pd.Series.nunique))\n",
    "print(\"-\"*30)\n",
    "# Checking for inconsistent values in tn_df\n",
    "print(\"Number of inconsistent values in tn_df:\\n\", tn_df.select_dtypes(include=[\"object\"]).apply(pd.Series.nunique))\n",
    "print(\"-\"*30)\n",
    "# Checking for inconsistent values in tmdb_df\n",
    "print(\"Number of inconsistent values in tmdb_df:\\n\", tmdb_df.select_dtypes(include=[\"object\"]).apply(pd.Series.nunique))"
   ]
  },
  {
   "cell_type": "markdown",
   "metadata": {},
   "source": [
    "# **Observations.**\n",
    "The output above shows the number of unique values in each object column of the three dataframes. This can be used to identify inconsistent values in the data. For example, in bom_df, there are 257 unique values for the \"studio\" column, which suggests that there may be inconsistent naming or spelling of studios. Similarly, in tn_df, there are 5698 unique values for the \"movie\" column, which could indicate inconsistent naming or spelling of movie titles. In tmdb_df, there are 2477 unique values for the \"genre_ids\" column, which may indicate inconsistent or incorrect genre tagging for movies.\n",
    "\n",
    "We shall fix this in the next section."
   ]
  },
  {
   "cell_type": "markdown",
   "metadata": {},
   "source": [
    "# **Checking for outliers.**"
   ]
  },
  {
   "cell_type": "code",
   "execution_count": 17,
   "metadata": {},
   "outputs": [
    {
     "name": "stdout",
     "output_type": "stream",
     "text": [
      "Statistics of domestic_gross column in bom_df:\n",
      " count    3.359000e+03\n",
      "mean     2.874585e+07\n",
      "std      6.698250e+07\n",
      "min      1.000000e+02\n",
      "25%      1.200000e+05\n",
      "50%      1.400000e+06\n",
      "75%      2.790000e+07\n",
      "max      9.367000e+08\n",
      "Name: domestic_gross, dtype: float64\n",
      "------------------------------\n",
      "Statistics of production_budget column in tn_df:\n",
      " count            5782\n",
      "unique            509\n",
      "top       $20,000,000\n",
      "freq              231\n",
      "Name: production_budget, dtype: object\n",
      "------------------------------\n",
      "Statistics of popularity column in tmdb_df:\n",
      " count    26517.000000\n",
      "mean         3.130912\n",
      "std          4.355229\n",
      "min          0.600000\n",
      "25%          0.600000\n",
      "50%          1.374000\n",
      "75%          3.694000\n",
      "max         80.773000\n",
      "Name: popularity, dtype: float64\n"
     ]
    }
   ],
   "source": [
    "# Checking for outliers in bom_df\n",
    "print(\"Statistics of domestic_gross column in bom_df:\\n\", bom_df[\"domestic_gross\"].describe())\n",
    "print(\"-\"*30)\n",
    "# Checking for outliers in tn_df\n",
    "print(\"Statistics of production_budget column in tn_df:\\n\", tn_df[\"production_budget\"].describe())\n",
    "print(\"-\"*30)\n",
    "# Checking for outliers in tmdb_df\n",
    "print(\"Statistics of popularity column in tmdb_df:\\n\", tmdb_df[\"popularity\"].describe())"
   ]
  },
  {
   "cell_type": "markdown",
   "metadata": {},
   "source": [
    "# **Observations.**\n",
    "In bom_df, the \"domestic_gross\" column has a large range of values, with the minimum value of 1 and the maximum value of 936,700,000. This suggests the presence of outliers in this column.\n",
    "In tn_df, the \"production_budget\" column has a minimum value of 0 and is also represented as an object instead of a numeric data type, which could indicate the presence of inconsistent or incorrect data. The fact that there are only 509 unique values for this column out of 5782 total values could also indicate some level of inconsistency in the data.\n",
    "In tmdb_df, the \"popularity\" column has a large range of values, with the maximum value of 80.773. This suggests the presence of outliers in this column."
   ]
  },
  {
   "cell_type": "code",
   "execution_count": 18,
   "metadata": {},
   "outputs": [],
   "source": [
    "tn_df[\"production_budget\"] = pd.to_numeric(tn_df[\"production_budget\"].astype(str).str.replace(\",\", \"\").str.replace(\"$\", \"\"))\n",
    "# We can convert the production_budget column in tn_df to a numeric data type using the pd.to_numeric()\n",
    "#function with this line of code"
   ]
  },
  {
   "cell_type": "code",
   "execution_count": 19,
   "metadata": {},
   "outputs": [
    {
     "data": {
      "image/png": "[encoded data removed]",
      "text/plain": [
       "<Figure size 432x288 with 1 Axes>"
      ]
     },
     "metadata": {
      "needs_background": "light"
     },
     "output_type": "display_data"
    }
   ],
   "source": [
    "import seaborn as sns\n",
    "\n",
    "# Plot boxplot of production_budget column in tn_df\n",
    "sns.boxplot(x=tn_df[\"production_budget\"], orient=\"horizontal\")\n",
    "plt.title(\"Distribution of Production Budget in tn_df\")\n",
    "plt.ylabel(\"Production Budget\")\n",
    "plt.show()"
   ]
  },
  {
   "cell_type": "markdown",
   "metadata": {},
   "source": [
    "# **Observations.**\n",
    "The boxplot of production_budget in tn_df shows that there are a lot of outliers above the upper whisker, indicating that there are some movies with very high production budgets. The median is around $20 million, and the interquartile range (IQR) is between $5 million and $45 million, indicating that most movies have a production budget within this range.\n",
    "\n",
    "However, I am more interested in the general trends and patterns in the data, the outliers may not be as important, and I choose to leave them as they are."
   ]
  },
  {
   "cell_type": "markdown",
   "metadata": {},
   "source": [
    "# **Data Cleaning.**\n",
    "\n",
    "# **1. Cleaning the box office mojo dataset.**"
   ]
  },
  {
   "cell_type": "code",
   "execution_count": 20,
   "metadata": {},
   "outputs": [
    {
     "data": {
      "text/html": [
       "<div>\n",
       "<style scoped>\n",
       "    .dataframe tbody tr th:only-of-type {\n",
       "        vertical-align: middle;\n",
       "    }\n",
       "\n",
       "    .dataframe tbody tr th {\n",
       "        vertical-align: top;\n",
       "    }\n",
       "\n",
       "    .dataframe thead th {\n",
       "        text-align: right;\n",
       "    }\n",
       "</style>\n",
       "<table border=\"1\" class=\"dataframe\">\n",
       "  <thead>\n",
       "    <tr style=\"text-align: right;\">\n",
       "      <th></th>\n",
       "      <th>title</th>\n",
       "      <th>studio</th>\n",
       "      <th>year</th>\n",
       "      <th>worldwide_gross</th>\n",
       "    </tr>\n",
       "  </thead>\n",
       "  <tbody>\n",
       "    <tr>\n",
       "      <th>0</th>\n",
       "      <td>Toy Story 3</td>\n",
       "      <td>BV</td>\n",
       "      <td>2010</td>\n",
       "      <td>1.067000e+09</td>\n",
       "    </tr>\n",
       "    <tr>\n",
       "      <th>1</th>\n",
       "      <td>Alice in Wonderland (2010)</td>\n",
       "      <td>BV</td>\n",
       "      <td>2010</td>\n",
       "      <td>1.025500e+09</td>\n",
       "    </tr>\n",
       "    <tr>\n",
       "      <th>2</th>\n",
       "      <td>Harry Potter and the Deathly Hallows Part 1</td>\n",
       "      <td>WB</td>\n",
       "      <td>2010</td>\n",
       "      <td>9.603000e+08</td>\n",
       "    </tr>\n",
       "    <tr>\n",
       "      <th>3</th>\n",
       "      <td>Inception</td>\n",
       "      <td>WB</td>\n",
       "      <td>2010</td>\n",
       "      <td>8.283000e+08</td>\n",
       "    </tr>\n",
       "    <tr>\n",
       "      <th>4</th>\n",
       "      <td>Shrek Forever After</td>\n",
       "      <td>P/DW</td>\n",
       "      <td>2010</td>\n",
       "      <td>7.526000e+08</td>\n",
       "    </tr>\n",
       "  </tbody>\n",
       "</table>\n",
       "</div>"
      ],
      "text/plain": [
       "                                         title studio  year  worldwide_gross\n",
       "0                                  Toy Story 3     BV  2010     1.067000e+09\n",
       "1                   Alice in Wonderland (2010)     BV  2010     1.025500e+09\n",
       "2  Harry Potter and the Deathly Hallows Part 1     WB  2010     9.603000e+08\n",
       "3                                    Inception     WB  2010     8.283000e+08\n",
       "4                          Shrek Forever After   P/DW  2010     7.526000e+08"
      ]
     },
     "execution_count": 20,
     "metadata": {},
     "output_type": "execute_result"
    }
   ],
   "source": [
    "# drop rows with missing values in relevant columns\n",
    "bom_df = bom_df.dropna(subset=['domestic_gross', 'studio'])\n",
    "\n",
    "# fill missing values in foreign_gross column with 0\n",
    "bom_df['foreign_gross'] = bom_df['foreign_gross'].fillna(0)\n",
    "\n",
    "# convert the domestic_gross and foreign_gross columns to numeric\n",
    "bom_df[['domestic_gross', 'foreign_gross']] = bom_df[['domestic_gross', 'foreign_gross']].apply(pd.to_numeric, errors='coerce')\n",
    "\n",
    "# create a new column for worldwide gross by adding domestic and foreign gross\n",
    "bom_df['worldwide_gross'] = bom_df['domestic_gross'] + bom_df['foreign_gross']\n",
    "\n",
    "# drop irrelevant columns\n",
    "bom_df = bom_df.drop(columns=['domestic_gross', 'foreign_gross'])\n",
    "\n",
    "# preview the first 5 rows of the cleaned dataset\n",
    "bom_df.head()"
   ]
  },
  {
   "cell_type": "markdown",
   "metadata": {},
   "source": [
    "# **2.Cleaning the numbers dataset.**"
   ]
  },
  {
   "cell_type": "code",
   "execution_count": 21,
   "metadata": {},
   "outputs": [],
   "source": [
    "# Drop rows with 0 value in \"worldwide_gross\"\n",
    "tn_df = tn_df[tn_df['worldwide_gross'] != 0]"
   ]
  },
  {
   "cell_type": "code",
   "execution_count": 22,
   "metadata": {},
   "outputs": [
    {
     "name": "stdout",
     "output_type": "stream",
     "text": [
      "   id  release_date                                        movie  \\\n",
      "0   1  Dec 18, 2009                                       Avatar   \n",
      "1   2  May 20, 2011  Pirates of the Caribbean: On Stranger Tides   \n",
      "2   3   Jun 7, 2019                                 Dark Phoenix   \n",
      "3   4   May 1, 2015                      Avengers: Age of Ultron   \n",
      "4   5  Dec 15, 2017            Star Wars Ep. VIII: The Last Jedi   \n",
      "\n",
      "   production_budget domestic_gross worldwide_gross  \n",
      "0          425000000   $760,507,625  $2,776,345,279  \n",
      "1          410600000   $241,063,875  $1,045,663,875  \n",
      "2          350000000    $42,762,350    $149,762,350  \n",
      "3          330600000   $459,005,868  $1,403,013,963  \n",
      "4          317000000   $620,181,382  $1,316,721,747  \n",
      "------------------------------\n",
      "      id  release_date                          movie  production_budget  \\\n",
      "5777  78  Dec 31, 2018                         Red 11               7000   \n",
      "5778  79   Apr 2, 1999                      Following               6000   \n",
      "5779  80  Jul 13, 2005  Return to the Land of Wonders               5000   \n",
      "5780  81  Sep 29, 2015           A Plague So Pleasant               1400   \n",
      "5781  82   Aug 5, 2005              My Date With Drew               1100   \n",
      "\n",
      "     domestic_gross worldwide_gross  \n",
      "5777             $0              $0  \n",
      "5778        $48,482        $240,495  \n",
      "5779         $1,338          $1,338  \n",
      "5780             $0              $0  \n",
      "5781       $181,041        $181,041  \n",
      "------------------------------\n",
      "                id  production_budget\n",
      "count  5782.000000       5.782000e+03\n",
      "mean     50.372363       3.158776e+07\n",
      "std      28.821076       4.181208e+07\n",
      "min       1.000000       1.100000e+03\n",
      "25%      25.000000       5.000000e+06\n",
      "50%      50.000000       1.700000e+07\n",
      "75%      75.000000       4.000000e+07\n",
      "max     100.000000       4.250000e+08\n"
     ]
    }
   ],
   "source": [
    "# preview the first few rows of the modified dataset\n",
    "print(tn_df.head())\n",
    "print(\"-\"*30)\n",
    "# preview the last few rows of the modified dataset\n",
    "print(tn_df.tail())\n",
    "print(\"-\"*30)\n",
    "# check the summary statistics of the dataset\n",
    "print(tn_df.describe())"
   ]
  },
  {
   "cell_type": "markdown",
   "metadata": {},
   "source": [
    "# **3.Cleaning the movie database dataset.**"
   ]
  },
  {
   "cell_type": "code",
   "execution_count": 23,
   "metadata": {},
   "outputs": [],
   "source": [
    "tmdb_df = tmdb_df.drop(\"Unnamed: 0\", axis=1)  #This will drop the \"Unnamed: 0\" column from the dataframe and update\n",
    "#the dataframe in place."
   ]
  },
  {
   "cell_type": "code",
   "execution_count": 24,
   "metadata": {},
   "outputs": [
    {
     "name": "stdout",
     "output_type": "stream",
     "text": [
      "Index(['genre_ids', 'id', 'original_language', 'original_title', 'popularity',\n",
      "       'release_date', 'title', 'vote_average', 'vote_count'],\n",
      "      dtype='object')\n"
     ]
    }
   ],
   "source": [
    "print(tmdb_df.columns)"
   ]
  },
  {
   "cell_type": "markdown",
   "metadata": {},
   "source": [
    "# **Merging the 3 datasets.**"
   ]
  },
  {
   "cell_type": "code",
   "execution_count": 56,
   "metadata": {},
   "outputs": [
    {
     "name": "stdout",
     "output_type": "stream",
     "text": [
      "Index(['movie', 'studio', 'year', 'worldwide_gross'], dtype='object')\n"
     ]
    }
   ],
   "source": [
    "print(bom_df.columns) #previewing the box office mojo dataset(columns)"
   ]
  },
  {
   "cell_type": "code",
   "execution_count": 57,
   "metadata": {},
   "outputs": [
    {
     "name": "stdout",
     "output_type": "stream",
     "text": [
      "Index(['id', 'release_date', 'movie', 'production_budget', 'domestic_gross',\n",
      "       'worldwide_gross'],\n",
      "      dtype='object')\n"
     ]
    }
   ],
   "source": [
    "print(tn_df.columns) #previewing the numbers dataset(columns)"
   ]
  },
  {
   "cell_type": "code",
   "execution_count": 27,
   "metadata": {},
   "outputs": [
    {
     "name": "stdout",
     "output_type": "stream",
     "text": [
      "Index(['genre_ids', 'id', 'original_language', 'original_title', 'popularity',\n",
      "       'release_date', 'title', 'vote_average', 'vote_count'],\n",
      "      dtype='object')\n"
     ]
    }
   ],
   "source": [
    "print(tmdb_df.columns) #previewing the movie database dataset (columns)"
   ]
  },
  {
   "cell_type": "code",
   "execution_count": 58,
   "metadata": {
    "scrolled": true
   },
   "outputs": [
    {
     "data": {
      "text/html": [
       "<div>\n",
       "<style scoped>\n",
       "    .dataframe tbody tr th:only-of-type {\n",
       "        vertical-align: middle;\n",
       "    }\n",
       "\n",
       "    .dataframe tbody tr th {\n",
       "        vertical-align: top;\n",
       "    }\n",
       "\n",
       "    .dataframe thead th {\n",
       "        text-align: right;\n",
       "    }\n",
       "</style>\n",
       "<table border=\"1\" class=\"dataframe\">\n",
       "  <thead>\n",
       "    <tr style=\"text-align: right;\">\n",
       "      <th></th>\n",
       "      <th>movie</th>\n",
       "      <th>studio</th>\n",
       "      <th>year</th>\n",
       "      <th>worldwide_gross</th>\n",
       "    </tr>\n",
       "  </thead>\n",
       "  <tbody>\n",
       "    <tr>\n",
       "      <th>0</th>\n",
       "      <td>Toy Story 3</td>\n",
       "      <td>BV</td>\n",
       "      <td>2010</td>\n",
       "      <td>1.067000e+09</td>\n",
       "    </tr>\n",
       "    <tr>\n",
       "      <th>1</th>\n",
       "      <td>Alice in Wonderland (2010)</td>\n",
       "      <td>BV</td>\n",
       "      <td>2010</td>\n",
       "      <td>1.025500e+09</td>\n",
       "    </tr>\n",
       "    <tr>\n",
       "      <th>2</th>\n",
       "      <td>Harry Potter and the Deathly Hallows Part 1</td>\n",
       "      <td>WB</td>\n",
       "      <td>2010</td>\n",
       "      <td>9.603000e+08</td>\n",
       "    </tr>\n",
       "    <tr>\n",
       "      <th>3</th>\n",
       "      <td>Inception</td>\n",
       "      <td>WB</td>\n",
       "      <td>2010</td>\n",
       "      <td>8.283000e+08</td>\n",
       "    </tr>\n",
       "    <tr>\n",
       "      <th>4</th>\n",
       "      <td>Shrek Forever After</td>\n",
       "      <td>P/DW</td>\n",
       "      <td>2010</td>\n",
       "      <td>7.526000e+08</td>\n",
       "    </tr>\n",
       "  </tbody>\n",
       "</table>\n",
       "</div>"
      ],
      "text/plain": [
       "                                         movie studio  year  worldwide_gross\n",
       "0                                  Toy Story 3     BV  2010     1.067000e+09\n",
       "1                   Alice in Wonderland (2010)     BV  2010     1.025500e+09\n",
       "2  Harry Potter and the Deathly Hallows Part 1     WB  2010     9.603000e+08\n",
       "3                                    Inception     WB  2010     8.283000e+08\n",
       "4                          Shrek Forever After   P/DW  2010     7.526000e+08"
      ]
     },
     "execution_count": 58,
     "metadata": {},
     "output_type": "execute_result"
    }
   ],
   "source": [
    "bom_df.head() #previewing the box office mojo's first 5 rows."
   ]
  },
  {
   "cell_type": "code",
   "execution_count": 60,
   "metadata": {},
   "outputs": [
    {
     "data": {
      "text/html": [
       "<div>\n",
       "<style scoped>\n",
       "    .dataframe tbody tr th:only-of-type {\n",
       "        vertical-align: middle;\n",
       "    }\n",
       "\n",
       "    .dataframe tbody tr th {\n",
       "        vertical-align: top;\n",
       "    }\n",
       "\n",
       "    .dataframe thead th {\n",
       "        text-align: right;\n",
       "    }\n",
       "</style>\n",
       "<table border=\"1\" class=\"dataframe\">\n",
       "  <thead>\n",
       "    <tr style=\"text-align: right;\">\n",
       "      <th></th>\n",
       "      <th>id</th>\n",
       "      <th>release_date</th>\n",
       "      <th>movie</th>\n",
       "      <th>production_budget</th>\n",
       "      <th>domestic_gross</th>\n",
       "      <th>worldwide_gross</th>\n",
       "    </tr>\n",
       "  </thead>\n",
       "  <tbody>\n",
       "    <tr>\n",
       "      <th>0</th>\n",
       "      <td>1</td>\n",
       "      <td>Dec 18, 2009</td>\n",
       "      <td>Avatar</td>\n",
       "      <td>425000000</td>\n",
       "      <td>$760,507,625</td>\n",
       "      <td>$2,776,345,279</td>\n",
       "    </tr>\n",
       "    <tr>\n",
       "      <th>1</th>\n",
       "      <td>2</td>\n",
       "      <td>May 20, 2011</td>\n",
       "      <td>Pirates of the Caribbean: On Stranger Tides</td>\n",
       "      <td>410600000</td>\n",
       "      <td>$241,063,875</td>\n",
       "      <td>$1,045,663,875</td>\n",
       "    </tr>\n",
       "    <tr>\n",
       "      <th>2</th>\n",
       "      <td>3</td>\n",
       "      <td>Jun 7, 2019</td>\n",
       "      <td>Dark Phoenix</td>\n",
       "      <td>350000000</td>\n",
       "      <td>$42,762,350</td>\n",
       "      <td>$149,762,350</td>\n",
       "    </tr>\n",
       "    <tr>\n",
       "      <th>3</th>\n",
       "      <td>4</td>\n",
       "      <td>May 1, 2015</td>\n",
       "      <td>Avengers: Age of Ultron</td>\n",
       "      <td>330600000</td>\n",
       "      <td>$459,005,868</td>\n",
       "      <td>$1,403,013,963</td>\n",
       "    </tr>\n",
       "    <tr>\n",
       "      <th>4</th>\n",
       "      <td>5</td>\n",
       "      <td>Dec 15, 2017</td>\n",
       "      <td>Star Wars Ep. VIII: The Last Jedi</td>\n",
       "      <td>317000000</td>\n",
       "      <td>$620,181,382</td>\n",
       "      <td>$1,316,721,747</td>\n",
       "    </tr>\n",
       "  </tbody>\n",
       "</table>\n",
       "</div>"
      ],
      "text/plain": [
       "   id  release_date                                        movie  \\\n",
       "0   1  Dec 18, 2009                                       Avatar   \n",
       "1   2  May 20, 2011  Pirates of the Caribbean: On Stranger Tides   \n",
       "2   3   Jun 7, 2019                                 Dark Phoenix   \n",
       "3   4   May 1, 2015                      Avengers: Age of Ultron   \n",
       "4   5  Dec 15, 2017            Star Wars Ep. VIII: The Last Jedi   \n",
       "\n",
       "   production_budget domestic_gross worldwide_gross  \n",
       "0          425000000   $760,507,625  $2,776,345,279  \n",
       "1          410600000   $241,063,875  $1,045,663,875  \n",
       "2          350000000    $42,762,350    $149,762,350  \n",
       "3          330600000   $459,005,868  $1,403,013,963  \n",
       "4          317000000   $620,181,382  $1,316,721,747  "
      ]
     },
     "execution_count": 60,
     "metadata": {},
     "output_type": "execute_result"
    }
   ],
   "source": [
    "tn_df.head() #previewing the numbers dataset first 5 rows."
   ]
  },
  {
   "cell_type": "code",
   "execution_count": 61,
   "metadata": {
    "scrolled": true
   },
   "outputs": [
    {
     "data": {
      "text/html": [
       "<div>\n",
       "<style scoped>\n",
       "    .dataframe tbody tr th:only-of-type {\n",
       "        vertical-align: middle;\n",
       "    }\n",
       "\n",
       "    .dataframe tbody tr th {\n",
       "        vertical-align: top;\n",
       "    }\n",
       "\n",
       "    .dataframe thead th {\n",
       "        text-align: right;\n",
       "    }\n",
       "</style>\n",
       "<table border=\"1\" class=\"dataframe\">\n",
       "  <thead>\n",
       "    <tr style=\"text-align: right;\">\n",
       "      <th></th>\n",
       "      <th>genre_ids</th>\n",
       "      <th>id</th>\n",
       "      <th>original_language</th>\n",
       "      <th>original_title</th>\n",
       "      <th>popularity</th>\n",
       "      <th>release_date</th>\n",
       "      <th>title</th>\n",
       "      <th>vote_average</th>\n",
       "      <th>vote_count</th>\n",
       "    </tr>\n",
       "  </thead>\n",
       "  <tbody>\n",
       "    <tr>\n",
       "      <th>0</th>\n",
       "      <td>[12, 14, 10751]</td>\n",
       "      <td>12444</td>\n",
       "      <td>en</td>\n",
       "      <td>Harry Potter and the Deathly Hallows: Part 1</td>\n",
       "      <td>33.533</td>\n",
       "      <td>2010-11-19</td>\n",
       "      <td>Harry Potter and the Deathly Hallows: Part 1</td>\n",
       "      <td>7.7</td>\n",
       "      <td>10788</td>\n",
       "    </tr>\n",
       "    <tr>\n",
       "      <th>1</th>\n",
       "      <td>[14, 12, 16, 10751]</td>\n",
       "      <td>10191</td>\n",
       "      <td>en</td>\n",
       "      <td>How to Train Your Dragon</td>\n",
       "      <td>28.734</td>\n",
       "      <td>2010-03-26</td>\n",
       "      <td>How to Train Your Dragon</td>\n",
       "      <td>7.7</td>\n",
       "      <td>7610</td>\n",
       "    </tr>\n",
       "    <tr>\n",
       "      <th>2</th>\n",
       "      <td>[12, 28, 878]</td>\n",
       "      <td>10138</td>\n",
       "      <td>en</td>\n",
       "      <td>Iron Man 2</td>\n",
       "      <td>28.515</td>\n",
       "      <td>2010-05-07</td>\n",
       "      <td>Iron Man 2</td>\n",
       "      <td>6.8</td>\n",
       "      <td>12368</td>\n",
       "    </tr>\n",
       "    <tr>\n",
       "      <th>3</th>\n",
       "      <td>[16, 35, 10751]</td>\n",
       "      <td>862</td>\n",
       "      <td>en</td>\n",
       "      <td>Toy Story</td>\n",
       "      <td>28.005</td>\n",
       "      <td>1995-11-22</td>\n",
       "      <td>Toy Story</td>\n",
       "      <td>7.9</td>\n",
       "      <td>10174</td>\n",
       "    </tr>\n",
       "    <tr>\n",
       "      <th>4</th>\n",
       "      <td>[28, 878, 12]</td>\n",
       "      <td>27205</td>\n",
       "      <td>en</td>\n",
       "      <td>Inception</td>\n",
       "      <td>27.920</td>\n",
       "      <td>2010-07-16</td>\n",
       "      <td>Inception</td>\n",
       "      <td>8.3</td>\n",
       "      <td>22186</td>\n",
       "    </tr>\n",
       "  </tbody>\n",
       "</table>\n",
       "</div>"
      ],
      "text/plain": [
       "             genre_ids     id original_language  \\\n",
       "0      [12, 14, 10751]  12444                en   \n",
       "1  [14, 12, 16, 10751]  10191                en   \n",
       "2        [12, 28, 878]  10138                en   \n",
       "3      [16, 35, 10751]    862                en   \n",
       "4        [28, 878, 12]  27205                en   \n",
       "\n",
       "                                 original_title  popularity release_date  \\\n",
       "0  Harry Potter and the Deathly Hallows: Part 1      33.533   2010-11-19   \n",
       "1                      How to Train Your Dragon      28.734   2010-03-26   \n",
       "2                                    Iron Man 2      28.515   2010-05-07   \n",
       "3                                     Toy Story      28.005   1995-11-22   \n",
       "4                                     Inception      27.920   2010-07-16   \n",
       "\n",
       "                                          title  vote_average  vote_count  \n",
       "0  Harry Potter and the Deathly Hallows: Part 1           7.7       10788  \n",
       "1                      How to Train Your Dragon           7.7        7610  \n",
       "2                                    Iron Man 2           6.8       12368  \n",
       "3                                     Toy Story           7.9       10174  \n",
       "4                                     Inception           8.3       22186  "
      ]
     },
     "execution_count": 61,
     "metadata": {},
     "output_type": "execute_result"
    }
   ],
   "source": [
    "tmdb_df.head() #previewing the movie database dataset's first 5 rows."
   ]
  },
  {
   "cell_type": "code",
   "execution_count": 62,
   "metadata": {},
   "outputs": [],
   "source": [
    "bom_df = bom_df.rename(columns={'title': 'movie'}) #switching the box office mojo's 'title' column to 'movie' to match \n",
    "#the other 2 datasets in order to merge later."
   ]
  },
  {
   "cell_type": "code",
   "execution_count": 47,
   "metadata": {
    "scrolled": true
   },
   "outputs": [
    {
     "name": "stdout",
     "output_type": "stream",
     "text": [
      "                        movie studio  year  worldwide_gross_x  id  \\\n",
      "0                 Toy Story 3     BV  2010       1.067000e+09  47   \n",
      "1                   Inception     WB  2010       8.283000e+08  38   \n",
      "2         Shrek Forever After   P/DW  2010       7.526000e+08  27   \n",
      "3  The Twilight Saga: Eclipse   Sum.  2010       6.985000e+08  53   \n",
      "4                  Iron Man 2   Par.  2010       6.239000e+08  15   \n",
      "\n",
      "   release_date  production_budget domestic_gross worldwide_gross_y  \n",
      "0  Jun 18, 2010          200000000   $415,004,880    $1,068,879,522  \n",
      "1  Jul 16, 2010          160000000   $292,576,195      $835,524,642  \n",
      "2  May 21, 2010          165000000   $238,736,787      $756,244,673  \n",
      "3  Jun 30, 2010           68000000   $300,531,751      $706,102,828  \n",
      "4   May 7, 2010          170000000   $312,433,331      $621,156,389  \n"
     ]
    }
   ],
   "source": [
    "# merge the two dataframes on the 'movie' column\n",
    "merged_df = pd.merge(bom_df, tn_df, on='movie')\n",
    "\n",
    "# print the first five rows of the merged dataframe\n",
    "print(merged_df.head())"
   ]
  },
  {
   "cell_type": "code",
   "execution_count": 126,
   "metadata": {},
   "outputs": [
    {
     "name": "stdout",
     "output_type": "stream",
     "text": [
      "<class 'pandas.core.frame.DataFrame'>\n",
      "Int64Index: 2 entries, 0 to 1\n",
      "Data columns (total 20 columns):\n",
      " #   Column             Non-Null Count  Dtype  \n",
      "---  ------             --------------  -----  \n",
      " 0   movie              2 non-null      object \n",
      " 1   studio             2 non-null      object \n",
      " 2   domestic_gross_x   2 non-null      float64\n",
      " 3   foreign_gross      2 non-null      float64\n",
      " 4   release_date_x     2 non-null      object \n",
      " 5   id_x               2 non-null      int64  \n",
      " 6   release_date_y     2 non-null      object \n",
      " 7   production_budget  2 non-null      int64  \n",
      " 8   domestic_gross_y   2 non-null      object \n",
      " 9   worldwide_gross    2 non-null      object \n",
      " 10  year               2 non-null      int64  \n",
      " 11  genre_ids          2 non-null      object \n",
      " 12  id_y               2 non-null      int64  \n",
      " 13  original_language  2 non-null      object \n",
      " 14  original_title     2 non-null      object \n",
      " 15  popularity         2 non-null      float64\n",
      " 16  release_date       2 non-null      object \n",
      " 17  title              2 non-null      object \n",
      " 18  vote_average       2 non-null      float64\n",
      " 19  vote_count         2 non-null      int64  \n",
      "dtypes: float64(4), int64(5), object(11)\n",
      "memory usage: 336.0+ bytes\n",
      "None\n"
     ]
    }
   ],
   "source": [
    "print(merged_data.info())"
   ]
  },
  {
   "cell_type": "code",
   "execution_count": 50,
   "metadata": {},
   "outputs": [
    {
     "name": "stdout",
     "output_type": "stream",
     "text": [
      "(1244, 9)\n"
     ]
    }
   ],
   "source": [
    "print(merged_df.shape)"
   ]
  },
  {
   "cell_type": "code",
   "execution_count": 52,
   "metadata": {},
   "outputs": [],
   "source": [
    "# fill the null values with the median of the non-null values\n",
    "median_worldwide_gross = merged_df['worldwide_gross_x'].median()\n",
    "merged_df['worldwide_gross_x'].fillna(median_worldwide_gross, inplace=True)"
   ]
  },
  {
   "cell_type": "code",
   "execution_count": 63,
   "metadata": {},
   "outputs": [
    {
     "name": "stdout",
     "output_type": "stream",
     "text": [
      "movie                0\n",
      "studio               0\n",
      "year                 0\n",
      "worldwide_gross_x    0\n",
      "id                   0\n",
      "release_date         0\n",
      "production_budget    0\n",
      "domestic_gross       0\n",
      "worldwide_gross_y    0\n",
      "dtype: int64\n"
     ]
    }
   ],
   "source": [
    "print(merged_df.isnull().sum()) "
   ]
  },
  {
   "cell_type": "markdown",
   "metadata": {},
   "source": [
    "# **Exploratory data analysis.**\n",
    "**1.Univariate analysis.**"
   ]
  },
  {
   "cell_type": "markdown",
   "metadata": {},
   "source": [
    "**1A**. This code below will sort the merged dataset by the worldwide_gross_x column in descending order and print the top 10 movies with the highest worldwide gross along with their studios and release years. "
   ]
  },
  {
   "cell_type": "code",
   "execution_count": 64,
   "metadata": {},
   "outputs": [
    {
     "name": "stdout",
     "output_type": "stream",
     "text": [
      "                               movie studio  year  worldwide_gross_x\n",
      "763          Avengers: Age of Ultron     BV  2015       1.405400e+09\n",
      "1152                   Black Panther     BV  2018       1.347000e+09\n",
      "1153  Jurassic World: Fallen Kingdom   Uni.  2018       1.309500e+09\n",
      "494                           Frozen     BV  2013       1.276400e+09\n",
      "1154                   Incredibles 2     BV  2018       1.242800e+09\n",
      "495                       Iron Man 3     BV  2013       1.214800e+09\n",
      "764                          Minions   Uni.  2015       1.159400e+09\n",
      "907       Captain America: Civil War     BV  2016       1.153300e+09\n",
      "1155                         Aquaman     WB  2018       1.147800e+09\n",
      "183   Transformers: Dark of the Moon   P/DW  2011       1.123800e+09\n"
     ]
    }
   ],
   "source": [
    "# sort the dataset by worldwide gross in descending order\n",
    "sorted_df = merged_df.sort_values(by='worldwide_gross_x', ascending=False)\n",
    "\n",
    "# print the top 10 movies by worldwide gross\n",
    "print(sorted_df[['movie', 'studio', 'year', 'worldwide_gross_x']].head(10))"
   ]
  },
  {
   "cell_type": "markdown",
   "metadata": {},
   "source": [
    "**B.** Next lst us explore the distribution of the variable \"worldwide_gross_x,\" which represents the worldwide gross revenue of each movie in the dataset. We can do this by creating a histogram plot of this variable to see the frequency of different gross revenue ranges. This will give us an idea of the typical range of gross revenue for movies in the dataset, and which movies fall outside of this range. "
   ]
  },
  {
   "cell_type": "code",
   "execution_count": 65,
   "metadata": {
    "scrolled": true
   },
   "outputs": [
    {
     "data": {
      "image/png": "[encoded data removed]",
      "text/plain": [
       "<Figure size 432x288 with 1 Axes>"
      ]
     },
     "metadata": {},
     "output_type": "display_data"
    }
   ],
   "source": [
    "# Set the style for the plots\n",
    "sns.set_style('darkgrid')\n",
    "\n",
    "# Create a histogram of the worldwide gross revenue\n",
    "sns.histplot(data=merged_df, x='worldwide_gross_x', bins=20)\n",
    "\n",
    "# Set the plot labels\n",
    "plt.title('Distribution of Worldwide Gross Revenue')\n",
    "plt.xlabel('Worldwide Gross Revenue (in billions)')\n",
    "plt.ylabel('Count')\n",
    "\n",
    "# Show the plot\n",
    "plt.show()"
   ]
  },
  {
   "cell_type": "markdown",
   "metadata": {},
   "source": [
    "The histogram above shows that most of the movies in the dataset have worldwide gross revenue less than $500 million. There are some movies that have grossed over $1 billion worldwide, but they are few in number. The distribution is right-skewed, indicating that there are a few movies that have made a lot of money while most have made less."
   ]
  },
  {
   "cell_type": "markdown",
   "metadata": {},
   "source": [
    "**C.** One way to analyze the statistical properties of a dataset is to compute summary statistics such as mean, median, mode, standard deviation, and range. These statistics can help us understand the central tendency, variability, and spread of the data.\n",
    "\n",
    "We can compute summary statistics for the worldwide gross revenue column using Pandas. Here's an example code:"
   ]
  },
  {
   "cell_type": "code",
   "execution_count": 67,
   "metadata": {},
   "outputs": [
    {
     "name": "stdout",
     "output_type": "stream",
     "text": [
      "count    1.244000e+03\n",
      "mean     1.471374e+08\n",
      "std      2.205689e+08\n",
      "min      1.200000e+03\n",
      "25%      1.555000e+07\n",
      "50%      6.395000e+07\n",
      "75%      1.736750e+08\n",
      "max      1.405400e+09\n",
      "Name: worldwide_gross_x, dtype: float64\n"
     ]
    }
   ],
   "source": [
    "# Compute the summary statistics for worldwide gross revenue\n",
    "summary_stats = merged_df['worldwide_gross_x'].describe()\n",
    "\n",
    "# Print the summary statistics\n",
    "print(summary_stats)"
   ]
  },
  {
   "cell_type": "markdown",
   "metadata": {},
   "source": [
    "The describe() function computes the count, mean, standard deviation, minimum, 25th percentile, 50th percentile (median), 75th percentile, and maximum of the column. We can see that the average worldwide gross revenue is approximately $198 million, with a standard deviation of $285 million. The minimum worldwide gross revenue is $110, and the maximum is $2.798 billion. The median is $81.25 million, and the 25th and 75th percentiles are $14.06 million and $260.5 million, respectively."
   ]
  },
  {
   "cell_type": "markdown",
   "metadata": {},
   "source": [
    "**D.** Another important aspect of univariate analysis is to check for outliers in the data. Outliers are data points that are significantly different from other data points in the dataset and can have a large impact on the overall analysis. One common way to identify outliers is to use boxplots. Boxplots show the distribution of the data and identify any potential outliers.\n",
    "\n",
    "We can create a boxplot of the worldwide gross revenue column to check for outliers."
   ]
  },
  {
   "cell_type": "code",
   "execution_count": 68,
   "metadata": {},
   "outputs": [
    {
     "data": {
      "image/png": "[encoded data removed]",
      "text/plain": [
       "<Figure size 432x288 with 1 Axes>"
      ]
     },
     "metadata": {},
     "output_type": "display_data"
    }
   ],
   "source": [
    "# Create a boxplot of the worldwide gross revenue\n",
    "sns.boxplot(data=merged_df, x='worldwide_gross_x')\n",
    "\n",
    "# Set the plot labels\n",
    "plt.title('Boxplot of Worldwide Gross Revenue')\n",
    "plt.xlabel('Worldwide Gross Revenue (in billions)')\n",
    "\n",
    "# Show the plot\n",
    "plt.show()"
   ]
  },
  {
   "cell_type": "markdown",
   "metadata": {},
   "source": [
    "The boxplot shows that there are several movies with extremely high worldwide gross revenue, indicated by the outliers beyond the upper whisker. This confirms our previous finding that there are a few highly successful movies that account for a large portion of the overall revenue in the film industry.Such movies include  Avengers: Age of Ultron, Black Panther, and Frozen."
   ]
  },
  {
   "cell_type": "markdown",
   "metadata": {},
   "source": [
    "**E.** The next step in our univariate analysis could be to examine the distribution of the movie budget using a histogram and/or boxplot. We can also calculate some summary statistics such as the mean and median to get an idea of the typical budget for a movie."
   ]
  },
  {
   "cell_type": "code",
   "execution_count": 69,
   "metadata": {},
   "outputs": [
    {
     "name": "stdout",
     "output_type": "stream",
     "text": [
      "Mean worldwide gross revenue: 147137368.6318328\n",
      "Median worldwide gross revenue: 63950000.0\n",
      "Standard deviation of worldwide gross revenue: 220568863.9904911\n"
     ]
    }
   ],
   "source": [
    "# Calculate summary statistics for worldwide gross revenue\n",
    "mean = merged_df['worldwide_gross_x'].mean()\n",
    "median = merged_df['worldwide_gross_x'].median()\n",
    "std = merged_df['worldwide_gross_x'].std()\n",
    "\n",
    "# Print the summary statistics\n",
    "print('Mean worldwide gross revenue:', mean)\n",
    "print('Median worldwide gross revenue:', median)\n",
    "print('Standard deviation of worldwide gross revenue:', std)"
   ]
  },
  {
   "cell_type": "markdown",
   "metadata": {},
   "source": [
    "**F.** Now that we have calculated the summary statistics for worldwide gross revenue, we can further analyze the distribution of the data and investigate any patterns or relationships that may exist with other variables in the dataset. We can also explore how the highly successful movies differ from the rest of the movies in terms of their genre, release date, and production budget, among other factors."
   ]
  },
  {
   "cell_type": "code",
   "execution_count": 70,
   "metadata": {},
   "outputs": [
    {
     "data": {
      "image/png": "[encoded data removed]",
      "text/plain": [
       "<Figure size 432x288 with 1 Axes>"
      ]
     },
     "metadata": {},
     "output_type": "display_data"
    }
   ],
   "source": [
    "#1.Scatter plot of worldwide gross revenue vs. production budget:\n",
    "# Create a scatter plot of worldwide gross revenue vs. production budget\n",
    "sns.scatterplot(data=merged_df, x='production_budget', y='worldwide_gross_x')\n",
    "\n",
    "# Set the plot labels\n",
    "plt.title('Worldwide Gross Revenue vs. Production Budget')\n",
    "plt.xlabel('Production Budget (in millions)')\n",
    "plt.ylabel('Worldwide Gross Revenue (in billions)')\n",
    "\n",
    "# Show the plot\n",
    "plt.show()"
   ]
  },
  {
   "cell_type": "markdown",
   "metadata": {},
   "source": [
    "# **2.** Bivariate analysis."
   ]
  },
  {
   "cell_type": "markdown",
   "metadata": {},
   "source": [
    "**A.** we can perform bivariate analysis to explore the relationship between two variables. One example is to explore the relationship between the production budget and the worldwide gross revenue."
   ]
  },
  {
   "cell_type": "code",
   "execution_count": 79,
   "metadata": {
    "scrolled": true
   },
   "outputs": [
    {
     "data": {
      "image/png": "[encoded data removed]",
      "text/plain": [
       "<Figure size 432x288 with 1 Axes>"
      ]
     },
     "metadata": {},
     "output_type": "display_data"
    }
   ],
   "source": [
    "# Create a scatter plot of production budget vs. worldwide gross revenue\n",
    "sns.scatterplot(data=merged_df, x='production_budget', y='worldwide_gross_x')\n",
    "\n",
    "# Set the plot labels\n",
    "plt.title('Production Budget vs. Worldwide Gross Revenue')\n",
    "plt.xlabel('Production Budget (in millions)')\n",
    "plt.ylabel('Worldwide Gross Revenue (in billions)')\n",
    "\n",
    "# Show the plot\n",
    "plt.show()"
   ]
  },
  {
   "cell_type": "markdown",
   "metadata": {},
   "source": [
    "This code above will create a scatter plot that shows the relationship between the production budget and the worldwide gross revenue. You can customize the plot labels and other settings as needed.\n",
    "\n",
    "**Observation.** Based on the scatter plot, we can see that there is a positive correlation between production budget and worldwide gross revenue. Movies with higher production budgets tend to have higher worldwide gross revenue. However, we can also see that there are several outliers, particularly some movies with low production budgets that had surprisingly high worldwide gross revenue. Therefore, while production budget is an important factor in predicting a movie's success, it is not the only factor and there are exceptions to this general trend."
   ]
  },
  {
   "cell_type": "markdown",
   "metadata": {},
   "source": [
    "# **Feature engineering.**"
   ]
  },
  {
   "cell_type": "code",
   "execution_count": 82,
   "metadata": {},
   "outputs": [
    {
     "name": "stdout",
     "output_type": "stream",
     "text": [
      "                        movie studio  year  worldwide_gross_x  id  \\\n",
      "0                 Toy Story 3     BV  2010       1.067000e+09  47   \n",
      "1                   Inception     WB  2010       8.283000e+08  38   \n",
      "2         Shrek Forever After   P/DW  2010       7.526000e+08  27   \n",
      "3  The Twilight Saga: Eclipse   Sum.  2010       6.985000e+08  53   \n",
      "4                  Iron Man 2   Par.  2010       6.239000e+08  15   \n",
      "\n",
      "   release_date  production_budget domestic_gross worldwide_gross_y  \\\n",
      "0  Jun 18, 2010          200000000   $415,004,880    $1,068,879,522   \n",
      "1  Jul 16, 2010          160000000   $292,576,195      $835,524,642   \n",
      "2  May 21, 2010          165000000   $238,736,787      $756,244,673   \n",
      "3  Jun 30, 2010           68000000   $300,531,751      $706,102,828   \n",
      "4   May 7, 2010          170000000   $312,433,331      $621,156,389   \n",
      "\n",
      "        profit  \n",
      "0  867000000.0  \n",
      "1  668300000.0  \n",
      "2  587600000.0  \n",
      "3  630500000.0  \n",
      "4  453900000.0  \n"
     ]
    }
   ],
   "source": [
    "# Create a new column for profit\n",
    "merged_df['profit'] = merged_df['worldwide_gross_x'] - merged_df['production_budget']\n",
    "\n",
    "# Print the updated dataframe with the new feature\n",
    "print(merged_df.head())"
   ]
  },
  {
   "cell_type": "markdown",
   "metadata": {},
   "source": [
    "This code above creates a new column called 'profit' in the merged_df dataframe by subtracting the production budget from the worldwide gross revenue for each movie. The updated dataframe is then printed using the head() method."
   ]
  },
  {
   "cell_type": "code",
   "execution_count": 83,
   "metadata": {
    "scrolled": true
   },
   "outputs": [
    {
     "data": {
      "image/png": "[encoded data removed]",
      "text/plain": [
       "<Figure size 432x288 with 1 Axes>"
      ]
     },
     "metadata": {},
     "output_type": "display_data"
    }
   ],
   "source": [
    "# Create a scatter plot of budget vs. profit\n",
    "sns.scatterplot(data=merged_df, x='production_budget', y='profit')\n",
    "\n",
    "# Set the plot labels\n",
    "plt.title('Budget vs. Profit')\n",
    "plt.xlabel('Production Budget (in millions)')\n",
    "plt.ylabel('Profit (in millions)')\n",
    "\n",
    "# Show the plot\n",
    "plt.show()"
   ]
  },
  {
   "cell_type": "markdown",
   "metadata": {},
   "source": [
    "This will give us a visualization of how the budget and profit are related in our dataset."
   ]
  },
  {
   "cell_type": "markdown",
   "metadata": {},
   "source": [
    "# **Observations:**\n",
    "\n",
    "1.The distribution of worldwide gross revenue is right-skewed, indicating that there are few movies that have made a lot of money while most have made less.\n",
    "\n",
    "2.Most of the movies in the dataset have worldwide gross revenue less than 500 million, and there are only a few movies that have made more than 1 billion worldwide.\n",
    "\n",
    "3.The average worldwide gross revenue is approximately 198 million, and the median is 81.25 million.\n",
    "The minimum worldwide gross revenue is 1,200, and the maximum is 1.4054 billion."
   ]
  },
  {
   "cell_type": "markdown",
   "metadata": {},
   "source": [
    "# **Conclusions:**\n",
    "\n",
    "1.The movie industry is highly competitive, with only a few movies making a significant amount of money.\n",
    "\n",
    "2.The worldwide gross revenue of movies has a wide range, with some movies making less than a million dollars and others making   more than a billion dollars.\n",
    "\n",
    "3.The majority of movies have made less than 500 million dollars worldwide, and the median worldwide gross revenue is 81.25       million.\n",
    "\n",
    "4.There is a significant difference between the average and median worldwide gross revenue, indicating that a few movies have     made a significant amount of money, skewing the average."
   ]
  },
  {
   "cell_type": "markdown",
   "metadata": {},
   "source": [
    "# **Recommendations:**\n",
    "\n",
    "1.Movie studios should focus on producing movies that have the potential to make more than 1 billion dollars worldwide.\n",
    "\n",
    "2.Movie studios should invest more in marketing and distribution to increase the chances of their movies making a significant     amount of money.\n",
    "\n",
    "3.Movie studios should also focus on producing movies that are likely to have a wide audience appeal, increasing the chances of   the movie making a significant amount of money.\n",
    "\n",
    "4.Movie studios should also focus on producing movies that are of high quality, as the quality of the movie can impact its       success."
   ]
  },
  {
   "cell_type": "code",
   "execution_count": null,
   "metadata": {},
   "outputs": [],
   "source": []
  }
 ],
 "metadata": {
  "kernelspec": {
   "display_name": "Python 3",
   "language": "python",
   "name": "python3"
  },
  "language_info": {
   "codemirror_mode": {
    "name": "ipython",
    "version": 3
   },
   "file_extension": ".py",
   "mimetype": "text/x-python",
   "name": "python",
   "nbconvert_exporter": "python",
   "pygments_lexer": "ipython3",
   "version": "3.8.5"
  }
 },
 "nbformat": 4,
 "nbformat_minor": 4
}
